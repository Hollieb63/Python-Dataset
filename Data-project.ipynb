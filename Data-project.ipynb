{
 "cells": [
  {
   "cell_type": "markdown",
   "id": "1c238e25-c7f6-4af2-9d65-797eee7f10b9",
   "metadata": {},
   "source": [
    "# <center>Unesco World Heritage Site List 1978-2024</center>"
   ]
  },
  {
   "attachments": {},
   "cell_type": "markdown",
   "id": "cd42201e-d965-49ce-8ab5-ed7cc8dc22be",
   "metadata": {},
   "source": [
    "<center><img src=\"download.png\"/></center>"
   ]
  },
  {
   "cell_type": "markdown",
   "id": "58d2ce79-d109-4cd2-928b-7647820c7d38",
   "metadata": {},
   "source": [
    "***"
   ]
  },
  {
   "cell_type": "markdown",
   "id": "cd3d7645-e176-485e-8010-bb4ac4ec1c57",
   "metadata": {},
   "source": [
    "## <center> Initial steps </center>"
   ]
  },
  {
   "cell_type": "markdown",
   "id": "821557b1-e6b5-441d-ac96-e74984187be9",
   "metadata": {},
   "source": [
    "<p>I downloaded the neccesary libraries and software in order to later display my data in graph form. I next downloaded and printed the dataset.</p>"
   ]
  },
  {
   "cell_type": "code",
   "execution_count": 44,
   "id": "59e09dd5-d7f5-4891-8c54-a440afabd3b4",
   "metadata": {
    "editable": true,
    "slideshow": {
     "slide_type": ""
    },
    "tags": []
   },
   "outputs": [],
   "source": [
    "import matplotlib \n",
    "import plotly.express as px\n",
    "import plotly.graph_objects as go\n",
    "import seaborn as sns\n",
    "import pandas as pd\n",
    "import numpy as np\n",
    "import matplotlib.pyplot as plt"
   ]
  },
  {
   "cell_type": "code",
   "execution_count": 45,
   "id": "a06b24e2-77b5-45f4-a402-95eae5823a17",
   "metadata": {
    "editable": true,
    "slideshow": {
     "slide_type": "slide"
    },
    "tags": [
     "slide"
    ]
   },
   "outputs": [],
   "source": [
    "heritage_df = pd.read_csv('unesco-world-heritage/heritage-sites.csv', sep=',')"
   ]
  },
  {
   "cell_type": "code",
   "execution_count": 46,
   "id": "2b129a6b-455b-4c7c-90d3-b0115aee1f87",
   "metadata": {
    "editable": true,
    "slideshow": {
     "slide_type": "subslide"
    },
    "tags": [
     "slide"
    ]
   },
   "outputs": [
    {
     "name": "stdout",
     "output_type": "stream",
     "text": [
      "      Unnamed: 0  Rank                                         Site Name  \\\n",
      "0              0     1                                 Galapagos Islands   \n",
      "1              1     2                                             Quito   \n",
      "2              2     3                                  Aachen Cathedral   \n",
      "3              3     4                                L'Anse aux Meadows   \n",
      "4              4     8                             Ichkeul National Park   \n",
      "...          ...   ...                                               ...   \n",
      "1218        1218  1720                                              Gedi   \n",
      "1219        1219  1721                                      Umm Al-Jimāl   \n",
      "1220        1220  1722                                  The Flow Country   \n",
      "1221        1221  1723  The Pleistocene Occupation Sites of South Africa   \n",
      "1222        1222  1749                                     Tell Umm Amer   \n",
      "\n",
      "      Nomination Year         Country  Rating  \n",
      "0                1978         Ecuador    4.80  \n",
      "1                1978         Ecuador    3.40  \n",
      "2                1978         Germany    3.71  \n",
      "3                1978          Canada    3.39  \n",
      "4                1980         Tunisia    2.30  \n",
      "...               ...             ...     ...  \n",
      "1218             2024           Kenya    2.70  \n",
      "1219             2024          Jordan    2.83  \n",
      "1220             2024  United Kingdom    2.14  \n",
      "1221             2024    South Africa    0.99  \n",
      "1222             2024       Palestine    0.00  \n",
      "\n",
      "[1223 rows x 6 columns]\n"
     ]
    }
   ],
   "source": [
    "print(heritage_df)  "
   ]
  },
  {
   "cell_type": "markdown",
   "id": "5cd4ff9e-41a3-40b7-b20b-d17dfe11f600",
   "metadata": {},
   "source": [
    "## <center>Further research and inisght</center>"
   ]
  },
  {
   "cell_type": "markdown",
   "id": "217f2dee-e93a-4041-86d1-35bb9c96779a",
   "metadata": {},
   "source": [
    "<p>I limited the dataset to ten rows and filtered out the unnamed sites. I sorted the data into the three categories I was most interested in viewing which were the Rating, Rank and Nomination Year and created a graph using hist term. Through using the column and describe function it returned that the averag rating was 3.2.   </p>"
   ]
  },
  {
   "cell_type": "code",
   "execution_count": 49,
   "id": "504edd4f-e326-486a-8be8-a86dd1a39dae",
   "metadata": {
    "editable": true,
    "slideshow": {
     "slide_type": "slide"
    },
    "tags": [
     "slide"
    ]
   },
   "outputs": [],
   "source": [
    "heritage_df.head(10)\n",
    "heritage_df.drop(heritage_df.columns[heritage_df.columns.str.contains('unnamed',case = False)],axis = 1, inplace = True)\n"
   ]
  },
  {
   "cell_type": "code",
   "execution_count": 50,
   "id": "98de79ae-fee6-4cc6-8fb4-692e0664c16f",
   "metadata": {
    "editable": true,
    "scrolled": true,
    "slideshow": {
     "slide_type": "subslide"
    },
    "tags": [
     "slide"
    ]
   },
   "outputs": [
    {
     "data": {
      "text/html": [
       "<div>\n",
       "<style scoped>\n",
       "    .dataframe tbody tr th:only-of-type {\n",
       "        vertical-align: middle;\n",
       "    }\n",
       "\n",
       "    .dataframe tbody tr th {\n",
       "        vertical-align: top;\n",
       "    }\n",
       "\n",
       "    .dataframe thead th {\n",
       "        text-align: right;\n",
       "    }\n",
       "</style>\n",
       "<table border=\"1\" class=\"dataframe\">\n",
       "  <thead>\n",
       "    <tr style=\"text-align: right;\">\n",
       "      <th></th>\n",
       "      <th>Rank</th>\n",
       "      <th>Site Name</th>\n",
       "      <th>Nomination Year</th>\n",
       "      <th>Country</th>\n",
       "      <th>Rating</th>\n",
       "    </tr>\n",
       "  </thead>\n",
       "  <tbody>\n",
       "    <tr>\n",
       "      <th>0</th>\n",
       "      <td>1</td>\n",
       "      <td>Galapagos Islands</td>\n",
       "      <td>1978</td>\n",
       "      <td>Ecuador</td>\n",
       "      <td>4.80</td>\n",
       "    </tr>\n",
       "    <tr>\n",
       "      <th>1</th>\n",
       "      <td>2</td>\n",
       "      <td>Quito</td>\n",
       "      <td>1978</td>\n",
       "      <td>Ecuador</td>\n",
       "      <td>3.40</td>\n",
       "    </tr>\n",
       "    <tr>\n",
       "      <th>2</th>\n",
       "      <td>3</td>\n",
       "      <td>Aachen Cathedral</td>\n",
       "      <td>1978</td>\n",
       "      <td>Germany</td>\n",
       "      <td>3.71</td>\n",
       "    </tr>\n",
       "    <tr>\n",
       "      <th>3</th>\n",
       "      <td>4</td>\n",
       "      <td>L'Anse aux Meadows</td>\n",
       "      <td>1978</td>\n",
       "      <td>Canada</td>\n",
       "      <td>3.39</td>\n",
       "    </tr>\n",
       "    <tr>\n",
       "      <th>4</th>\n",
       "      <td>8</td>\n",
       "      <td>Ichkeul National Park</td>\n",
       "      <td>1980</td>\n",
       "      <td>Tunisia</td>\n",
       "      <td>2.30</td>\n",
       "    </tr>\n",
       "    <tr>\n",
       "      <th>5</th>\n",
       "      <td>9</td>\n",
       "      <td>Simien National Park</td>\n",
       "      <td>1978</td>\n",
       "      <td>Ethiopia</td>\n",
       "      <td>3.75</td>\n",
       "    </tr>\n",
       "    <tr>\n",
       "      <th>6</th>\n",
       "      <td>10</td>\n",
       "      <td>Lower Valley of the Awash</td>\n",
       "      <td>1980</td>\n",
       "      <td>Ethiopia</td>\n",
       "      <td>3.14</td>\n",
       "    </tr>\n",
       "    <tr>\n",
       "      <th>7</th>\n",
       "      <td>12</td>\n",
       "      <td>Tiya</td>\n",
       "      <td>1980</td>\n",
       "      <td>Ethiopia</td>\n",
       "      <td>2.28</td>\n",
       "    </tr>\n",
       "    <tr>\n",
       "      <th>8</th>\n",
       "      <td>13</td>\n",
       "      <td>Melka Kunture and Balchit</td>\n",
       "      <td>2024</td>\n",
       "      <td>Ethiopia</td>\n",
       "      <td>1.61</td>\n",
       "    </tr>\n",
       "    <tr>\n",
       "      <th>9</th>\n",
       "      <td>15</td>\n",
       "      <td>Aksum</td>\n",
       "      <td>1980</td>\n",
       "      <td>Ethiopia</td>\n",
       "      <td>3.42</td>\n",
       "    </tr>\n",
       "  </tbody>\n",
       "</table>\n",
       "</div>"
      ],
      "text/plain": [
       "   Rank                  Site Name  Nomination Year   Country  Rating\n",
       "0     1          Galapagos Islands             1978   Ecuador    4.80\n",
       "1     2                      Quito             1978   Ecuador    3.40\n",
       "2     3           Aachen Cathedral             1978   Germany    3.71\n",
       "3     4         L'Anse aux Meadows             1978    Canada    3.39\n",
       "4     8      Ichkeul National Park             1980   Tunisia    2.30\n",
       "5     9       Simien National Park             1978  Ethiopia    3.75\n",
       "6    10  Lower Valley of the Awash             1980  Ethiopia    3.14\n",
       "7    12                       Tiya             1980  Ethiopia    2.28\n",
       "8    13  Melka Kunture and Balchit             2024  Ethiopia    1.61\n",
       "9    15                      Aksum             1980  Ethiopia    3.42"
      ]
     },
     "execution_count": 50,
     "metadata": {},
     "output_type": "execute_result"
    }
   ],
   "source": [
    "heritage_df.head(10)"
   ]
  },
  {
   "cell_type": "code",
   "execution_count": 51,
   "id": "0f4409a7-339a-47fb-b559-19fe2ebc984f",
   "metadata": {
    "editable": true,
    "slideshow": {
     "slide_type": "slide"
    },
    "tags": [
     "slide"
    ]
   },
   "outputs": [
    {
     "name": "stdout",
     "output_type": "stream",
     "text": [
      "                                             Site Name  Nomination Year  \\\n",
      "0                                    Galapagos Islands             1978   \n",
      "1                                                Quito             1978   \n",
      "2                                     Aachen Cathedral             1978   \n",
      "3                                   L'Anse aux Meadows             1978   \n",
      "4                                Ichkeul National Park             1980   \n",
      "...                                                ...              ...   \n",
      "1218                                              Gedi             2024   \n",
      "1219                                      Umm Al-Jimāl             2024   \n",
      "1220                                  The Flow Country             2024   \n",
      "1221  The Pleistocene Occupation Sites of South Africa             2024   \n",
      "1222                                     Tell Umm Amer             2024   \n",
      "\n",
      "      Rating  \n",
      "0       4.80  \n",
      "1       3.40  \n",
      "2       3.71  \n",
      "3       3.39  \n",
      "4       2.30  \n",
      "...      ...  \n",
      "1218    2.70  \n",
      "1219    2.83  \n",
      "1220    2.14  \n",
      "1221    0.99  \n",
      "1222    0.00  \n",
      "\n",
      "[1223 rows x 3 columns]\n"
     ]
    }
   ],
   "source": [
    "print(heritage_df[[\"Site Name\",\"Nomination Year\",\"Rating\"]])\n"
   ]
  },
  {
   "cell_type": "code",
   "execution_count": 52,
   "id": "1dd23780-6eae-495d-9cbb-0a9f2cf75246",
   "metadata": {},
   "outputs": [
    {
     "data": {
      "text/html": [
       "<div>\n",
       "<style scoped>\n",
       "    .dataframe tbody tr th:only-of-type {\n",
       "        vertical-align: middle;\n",
       "    }\n",
       "\n",
       "    .dataframe tbody tr th {\n",
       "        vertical-align: top;\n",
       "    }\n",
       "\n",
       "    .dataframe thead th {\n",
       "        text-align: right;\n",
       "    }\n",
       "</style>\n",
       "<table border=\"1\" class=\"dataframe\">\n",
       "  <thead>\n",
       "    <tr style=\"text-align: right;\">\n",
       "      <th></th>\n",
       "      <th>Rank</th>\n",
       "      <th>Nomination Year</th>\n",
       "      <th>Rating</th>\n",
       "    </tr>\n",
       "  </thead>\n",
       "  <tbody>\n",
       "    <tr>\n",
       "      <th>count</th>\n",
       "      <td>1223.000000</td>\n",
       "      <td>1223.000000</td>\n",
       "      <td>1223.000000</td>\n",
       "    </tr>\n",
       "    <tr>\n",
       "      <th>mean</th>\n",
       "      <td>869.318070</td>\n",
       "      <td>1999.896157</td>\n",
       "      <td>3.207228</td>\n",
       "    </tr>\n",
       "    <tr>\n",
       "      <th>std</th>\n",
       "      <td>494.637551</td>\n",
       "      <td>13.114310</td>\n",
       "      <td>0.724647</td>\n",
       "    </tr>\n",
       "    <tr>\n",
       "      <th>min</th>\n",
       "      <td>1.000000</td>\n",
       "      <td>1978.000000</td>\n",
       "      <td>0.000000</td>\n",
       "    </tr>\n",
       "    <tr>\n",
       "      <th>25%</th>\n",
       "      <td>439.500000</td>\n",
       "      <td>1988.000000</td>\n",
       "      <td>2.790000</td>\n",
       "    </tr>\n",
       "    <tr>\n",
       "      <th>50%</th>\n",
       "      <td>861.000000</td>\n",
       "      <td>1999.000000</td>\n",
       "      <td>3.240000</td>\n",
       "    </tr>\n",
       "    <tr>\n",
       "      <th>75%</th>\n",
       "      <td>1305.500000</td>\n",
       "      <td>2011.000000</td>\n",
       "      <td>3.670000</td>\n",
       "    </tr>\n",
       "    <tr>\n",
       "      <th>max</th>\n",
       "      <td>1749.000000</td>\n",
       "      <td>2024.000000</td>\n",
       "      <td>4.840000</td>\n",
       "    </tr>\n",
       "  </tbody>\n",
       "</table>\n",
       "</div>"
      ],
      "text/plain": [
       "              Rank  Nomination Year       Rating\n",
       "count  1223.000000      1223.000000  1223.000000\n",
       "mean    869.318070      1999.896157     3.207228\n",
       "std     494.637551        13.114310     0.724647\n",
       "min       1.000000      1978.000000     0.000000\n",
       "25%     439.500000      1988.000000     2.790000\n",
       "50%     861.000000      1999.000000     3.240000\n",
       "75%    1305.500000      2011.000000     3.670000\n",
       "max    1749.000000      2024.000000     4.840000"
      ]
     },
     "execution_count": 52,
     "metadata": {},
     "output_type": "execute_result"
    }
   ],
   "source": [
    "heritage_df.columns\n",
    "heritage_df.describe()"
   ]
  },
  {
   "cell_type": "code",
   "execution_count": 53,
   "id": "a8f8c207-e2e1-4a81-b93d-6183f45feab6",
   "metadata": {
    "editable": true,
    "slideshow": {
     "slide_type": "slide"
    },
    "tags": []
   },
   "outputs": [
    {
     "data": {
      "text/plain": [
       "array([[<Axes: title={'center': 'Rank'}>,\n",
       "        <Axes: title={'center': 'Nomination Year'}>],\n",
       "       [<Axes: title={'center': 'Rating'}>, <Axes: >]], dtype=object)"
      ]
     },
     "execution_count": 53,
     "metadata": {},
     "output_type": "execute_result"
    },
    {
     "data": {
      "image/png": "[encoded data removed]",
      "text/plain": [
       "<Figure size 1200x600 with 4 Axes>"
      ]
     },
     "metadata": {},
     "output_type": "display_data"
    }
   ],
   "source": [
    "heritage_df.hist(figsize=(12, 6))\n"
   ]
  },
  {
   "cell_type": "markdown",
   "id": "d611fb6c-2b95-48b1-a785-4b853c9f1382",
   "metadata": {},
   "source": [
    "## <center> Cleaning the Data and narrowing my focus </center>"
   ]
  },
  {
   "cell_type": "markdown",
   "id": "95e0a13c-b95a-4455-b473-8714dbe40be8",
   "metadata": {},
   "source": [
    "<p>In this section I searched the data types pertaining the heritage list categories. This was useful as later on in this project I had to change a float to an integer. I checked to see if any data was missing (which it wasn't). I focused on finding the most popular heritage sites with a rating over three during 2024. This returned a total of six sites.</p>"
   ]
  },
  {
   "cell_type": "code",
   "execution_count": 63,
   "id": "68b185ee-8294-42b3-94b7-96635a500089",
   "metadata": {
    "editable": true,
    "slideshow": {
     "slide_type": "slide"
    },
    "tags": []
   },
   "outputs": [
    {
     "name": "stdout",
     "output_type": "stream",
     "text": [
      "Rank                 int64\n",
      "Site Name           object\n",
      "Nomination Year      int64\n",
      "Country             object\n",
      "Rating             float64\n",
      "dtype: object\n"
     ]
    }
   ],
   "source": [
    "print(heritage_df.dtypes) "
   ]
  },
  {
   "cell_type": "code",
   "execution_count": 64,
   "id": "756dcc8a-1c43-4714-bd12-7f89c229d7bb",
   "metadata": {
    "editable": true,
    "slideshow": {
     "slide_type": "subslide"
    },
    "tags": []
   },
   "outputs": [
    {
     "name": "stdout",
     "output_type": "stream",
     "text": [
      "Nomination Year    0\n",
      "Rating             0\n",
      "dtype: int64\n"
     ]
    }
   ],
   "source": [
    "print(heritage_df[[\"Nomination Year\", \"Rating\"]].isna().sum())\n"
   ]
  },
  {
   "cell_type": "code",
   "execution_count": 65,
   "id": "67b6baa6-c191-4c88-8529-8547b6507efc",
   "metadata": {
    "editable": true,
    "slideshow": {
     "slide_type": "slide"
    },
    "tags": []
   },
   "outputs": [
    {
     "name": "stdout",
     "output_type": "stream",
     "text": [
      "      Rank                            Site Name  Nomination Year  \\\n",
      "1143  1611    Lençóis Maranhenses National Park             2024   \n",
      "1162  1638                  Badain Jaran Desert             2024   \n",
      "1196  1688  Cultural Landscape of Kenozero Lake             2024   \n",
      "1211  1708                            Via Appia             2024   \n",
      "1214  1713           The Royal Court of Tiébélé             2024   \n",
      "1215  1714                 Beijing Central Axis             2024   \n",
      "\n",
      "           Country  Rating  \n",
      "1143        Brazil    3.80  \n",
      "1162         China    3.05  \n",
      "1196        Russia    3.50  \n",
      "1211         Italy    3.30  \n",
      "1214  Burkina Faso    3.50  \n",
      "1215         China    3.03  \n"
     ]
    }
   ],
   "source": [
    "print (heritage_df[(heritage_df[\"Nomination Year\"] == 2024) & (heritage_df[\"Rating\"] > 3.0)])\n"
   ]
  },
  {
   "cell_type": "code",
   "execution_count": 67,
   "id": "68c3dd15-0954-4441-bd18-be9b8aec0635",
   "metadata": {
    "editable": true,
    "slideshow": {
     "slide_type": "subslide"
    },
    "tags": []
   },
   "outputs": [],
   "source": [
    "subset = heritage_df[(heritage_df[\"Nomination Year\"] == 2024) & (heritage_df[\"Rating\"] > 3.0)]"
   ]
  },
  {
   "cell_type": "markdown",
   "id": "759d9daf-d5e4-4ac8-9de8-276d565e03d2",
   "metadata": {},
   "source": [
    "## <center>Figures and Graphs displaying heritage site popularity during 2024</center>"
   ]
  },
  {
   "cell_type": "markdown",
   "id": "326c3574-2745-45ec-bdcb-a6504271a817",
   "metadata": {},
   "source": [
    "<p>I used a bar chart to plot the six most popular sites within 2024. I added a colour coded key which listed the Site Names, the X and Y axis depict the Rating and Nomination Year (2024). It clearly names Lençóis Maranhenses National Park as the site with the highest rating and Beijing Central Axis as the lowest rated. </p>"
   ]
  },
  {
   "cell_type": "code",
   "execution_count": 74,
   "id": "e2cc8089-a2d0-4666-9937-e06c70ece35a",
   "metadata": {
    "editable": true,
    "slideshow": {
     "slide_type": "slide"
    },
    "tags": []
   },
   "outputs": [
    {
     "data": {
      "image/png": "[encoded data removed]",
      "text/plain": [
       "<Figure size 1200x600 with 1 Axes>"
      ]
     },
     "metadata": {},
     "output_type": "display_data"
    }
   ],
   "source": [
    "plt.figure(figsize=(12, 6))\n",
    "sns.barplot(x=\"Nomination Year\", y=\"Rating\", hue=\"Site Name\", data=subset, dodge=True, palette=\"viridis\")\n",
    "\n",
    "# Enhanced the graph by adding title, each site labelled in the key discerned by colour, x and y axis clearly labelled, font size and figure size enlarged for clearer visuals. This graph lists the only 6 sites included within the dataset that were ranked 3 or over during 2024.\n",
    "plt.title(\"Heritage Sites Rating by Year\", fontsize=14)\n",
    "plt.xlabel(\"Nomination Year\", fontsize=12)\n",
    "plt.ylabel(\"Rating\", fontsize=12)\n",
    "plt.legend(title=\"Site\", bbox_to_anchor=(1.05, 1), loc='upper left')\n",
    "plt.tight_layout()\n",
    "plt.show()"
   ]
  },
  {
   "cell_type": "markdown",
   "id": "36ee3ded-7d34-4ea0-9c80-33673fcd3f63",
   "metadata": {},
   "source": [
    "<p></p>"
   ]
  },
  {
   "cell_type": "markdown",
   "id": "d3eb7cfb-8aed-48ac-9e91-526852364833",
   "metadata": {},
   "source": [
    "<p>Used a different format (pie chart) to display the same results found in the bar chart above. The only difference is that, I rounded the ratings for the sites so that they became integers instead of floats which created a clearer result.  </p>"
   ]
  },
  {
   "cell_type": "code",
   "execution_count": 77,
   "id": "df8fdc68-b808-4192-82dc-12ac36f4f310",
   "metadata": {
    "editable": true,
    "slideshow": {
     "slide_type": "slide"
    },
    "tags": []
   },
   "outputs": [
    {
     "data": {
      "image/png": "[encoded data removed]",
      "text/plain": [
       "<Figure size 640x480 with 1 Axes>"
      ]
     },
     "metadata": {},
     "output_type": "display_data"
    }
   ],
   "source": [
    "\n",
    "import numpy as np\n",
    "y = np.array([ 4, 4, 4, 3, 3, 3 ])\n",
    "mylabels = [\"Lençóis Maranhenses National Park\", \"Cultural Landscape of Kenozero Lake\", \"The Royal Court of Tiébélé\", \"Via Appia\",\"Badain Jaran Desert\", \"Beijing Central Axis\"]\n",
    "\n",
    "plt.title(\"Heritage Sites with highest rating 2024\", fontsize=14)\n",
    "plt.pie(y, labels = mylabels)\n",
    "plt.legend(title=\"Site\", bbox_to_anchor=(1.7, 1), loc='upper left')\n",
    "plt.show() "
   ]
  },
  {
   "cell_type": "code",
   "execution_count": 79,
   "id": "c4ff6103-8fe5-4f90-b223-edf988fa3080",
   "metadata": {
    "editable": true,
    "slideshow": {
     "slide_type": "subslide"
    },
    "tags": []
   },
   "outputs": [
    {
     "name": "stdout",
     "output_type": "stream",
     "text": [
      "[4, 3, 4, 3, 4, 3]\n"
     ]
    }
   ],
   "source": [
    "floats = [3.80, 3.05, 3.50, 3.30, 3.50, 3.03]\n",
    "integers = [int(round(x)) for x in floats]\n",
    "print(integers) \n"
   ]
  },
  {
   "cell_type": "markdown",
   "id": "148ec86a-dbf3-46c1-8c27-d1286119a60a",
   "metadata": {},
   "source": [
    "## <center>Research into sight ratings over 3* throughout the complete dataset timeline</center>"
   ]
  },
  {
   "cell_type": "markdown",
   "id": "9d032678-4013-4be5-9957-b876841b7a62",
   "metadata": {},
   "source": [
    "<p>Learned how to isolate certain sites purely based on their rank id. Decided to take a look at the general popularity of the UNESCO heritage sites from 1978-2024 and targeted those with a rating higher than three. It returned ten rows and I used the data contained in the results to created a bar chart that compared the rank and rating of the top four sites.Auschwitz Birkenau had the highest ratings and rank whereas Djoudj had the lowest rating and Fasil Ghebbi had the lowest rank.</p>"
   ]
  },
  {
   "cell_type": "code",
   "execution_count": 81,
   "id": "d482a656-f38d-4e1a-bf5d-8aea5b454f35",
   "metadata": {
    "editable": true,
    "slideshow": {
     "slide_type": ""
    },
    "tags": []
   },
   "outputs": [],
   "source": [
    "heritage_df = pd.read_csv('unesco-world-heritage/heritage-sites.csv', sep=',')"
   ]
  },
  {
   "cell_type": "code",
   "execution_count": 83,
   "id": "f60b7362-8450-4127-84b3-bd711ea2afb0",
   "metadata": {
    "editable": true,
    "slideshow": {
     "slide_type": "slide"
    },
    "tags": []
   },
   "outputs": [
    {
     "name": "stdout",
     "output_type": "stream",
     "text": [
      "0                                      Galapagos Islands\n",
      "1                                                  Quito\n",
      "2                                       Aachen Cathedral\n",
      "3                                     L'Anse aux Meadows\n",
      "4                                  Ichkeul National Park\n",
      "                              ...                       \n",
      "1218                                                Gedi\n",
      "1219                                        Umm Al-Jimāl\n",
      "1220                                    The Flow Country\n",
      "1221    The Pleistocene Occupation Sites of South Africa\n",
      "1222                                       Tell Umm Amer\n",
      "Name: Site Name, Length: 1223, dtype: object\n"
     ]
    }
   ],
   "source": [
    "print(heritage_df[\"Site Name\"])"
   ]
  },
  {
   "cell_type": "code",
   "execution_count": 85,
   "id": "49f0f0c0-1435-47ec-801a-91e374ace724",
   "metadata": {
    "editable": true,
    "slideshow": {
     "slide_type": "subslide"
    },
    "tags": []
   },
   "outputs": [
    {
     "data": {
      "text/plain": [
       "Index(['Unnamed: 0', 'Rank', 'Site Name', 'Nomination Year', 'Country',\n",
       "       'Rating'],\n",
       "      dtype='object')"
      ]
     },
     "execution_count": 85,
     "metadata": {},
     "output_type": "execute_result"
    }
   ],
   "source": [
    "heritage_df.columns"
   ]
  },
  {
   "cell_type": "code",
   "execution_count": 87,
   "id": "6413c4c4-f7ee-4316-b349-27a3f1ef2ebe",
   "metadata": {
    "editable": true,
    "slideshow": {
     "slide_type": "subslide"
    },
    "tags": []
   },
   "outputs": [
    {
     "data": {
      "text/html": [
       "<div>\n",
       "<style scoped>\n",
       "    .dataframe tbody tr th:only-of-type {\n",
       "        vertical-align: middle;\n",
       "    }\n",
       "\n",
       "    .dataframe tbody tr th {\n",
       "        vertical-align: top;\n",
       "    }\n",
       "\n",
       "    .dataframe thead th {\n",
       "        text-align: right;\n",
       "    }\n",
       "</style>\n",
       "<table border=\"1\" class=\"dataframe\">\n",
       "  <thead>\n",
       "    <tr style=\"text-align: right;\">\n",
       "      <th></th>\n",
       "      <th>Unnamed: 0</th>\n",
       "      <th>Rank</th>\n",
       "      <th>Site Name</th>\n",
       "      <th>Nomination Year</th>\n",
       "      <th>Country</th>\n",
       "      <th>Rating</th>\n",
       "    </tr>\n",
       "  </thead>\n",
       "  <tbody>\n",
       "    <tr>\n",
       "      <th>1143</th>\n",
       "      <td>1143</td>\n",
       "      <td>1611</td>\n",
       "      <td>Lençóis Maranhenses National Park</td>\n",
       "      <td>2024</td>\n",
       "      <td>Brazil</td>\n",
       "      <td>3.8</td>\n",
       "    </tr>\n",
       "  </tbody>\n",
       "</table>\n",
       "</div>"
      ],
      "text/plain": [
       "      Unnamed: 0  Rank                          Site Name  Nomination Year  \\\n",
       "1143        1143  1611  Lençóis Maranhenses National Park             2024   \n",
       "\n",
       "     Country  Rating  \n",
       "1143  Brazil     3.8  "
      ]
     },
     "execution_count": 87,
     "metadata": {},
     "output_type": "execute_result"
    }
   ],
   "source": [
    "heritage_df[(heritage_df[\"Rank\"] == 1611)]"
   ]
  },
  {
   "cell_type": "code",
   "execution_count": 89,
   "id": "f31ef848-013e-4ade-9ae9-8ceff6700f67",
   "metadata": {},
   "outputs": [],
   "source": [
    "heritage_df.drop(heritage_df.columns[heritage_df.columns.str.contains('unnamed',case = False)],axis = 1, inplace = True)"
   ]
  },
  {
   "cell_type": "code",
   "execution_count": 64,
   "id": "e9d34f0d-abe2-4c05-9ce5-a04b130b84a4",
   "metadata": {},
   "outputs": [
    {
     "data": {
      "text/html": [
       "<div>\n",
       "<style scoped>\n",
       "    .dataframe tbody tr th:only-of-type {\n",
       "        vertical-align: middle;\n",
       "    }\n",
       "\n",
       "    .dataframe tbody tr th {\n",
       "        vertical-align: top;\n",
       "    }\n",
       "\n",
       "    .dataframe thead th {\n",
       "        text-align: right;\n",
       "    }\n",
       "</style>\n",
       "<table border=\"1\" class=\"dataframe\">\n",
       "  <thead>\n",
       "    <tr style=\"text-align: right;\">\n",
       "      <th></th>\n",
       "      <th>Rank</th>\n",
       "      <th>Site Name</th>\n",
       "      <th>Nomination Year</th>\n",
       "      <th>Country</th>\n",
       "      <th>Rating</th>\n",
       "    </tr>\n",
       "  </thead>\n",
       "  <tbody>\n",
       "    <tr>\n",
       "      <th>12</th>\n",
       "      <td>19</td>\n",
       "      <td>Fasil Ghebbi</td>\n",
       "      <td>1979</td>\n",
       "      <td>Ethiopia</td>\n",
       "      <td>3.31</td>\n",
       "    </tr>\n",
       "    <tr>\n",
       "      <th>13</th>\n",
       "      <td>20</td>\n",
       "      <td>Damascus</td>\n",
       "      <td>1979</td>\n",
       "      <td>Syria</td>\n",
       "      <td>4.15</td>\n",
       "    </tr>\n",
       "    <tr>\n",
       "      <th>18</th>\n",
       "      <td>25</td>\n",
       "      <td>Djoudj</td>\n",
       "      <td>1981</td>\n",
       "      <td>Senegal</td>\n",
       "      <td>3.08</td>\n",
       "    </tr>\n",
       "    <tr>\n",
       "      <th>24</th>\n",
       "      <td>31</td>\n",
       "      <td>Auschwitz Birkenau</td>\n",
       "      <td>1979</td>\n",
       "      <td>Poland</td>\n",
       "      <td>4.10</td>\n",
       "    </tr>\n",
       "    <tr>\n",
       "      <th>27</th>\n",
       "      <td>34</td>\n",
       "      <td>Forts and Castles Gold Coast</td>\n",
       "      <td>1979</td>\n",
       "      <td>Ghana</td>\n",
       "      <td>3.13</td>\n",
       "    </tr>\n",
       "    <tr>\n",
       "      <th>...</th>\n",
       "      <td>...</td>\n",
       "      <td>...</td>\n",
       "      <td>...</td>\n",
       "      <td>...</td>\n",
       "      <td>...</td>\n",
       "    </tr>\n",
       "    <tr>\n",
       "      <th>1192</th>\n",
       "      <td>1683</td>\n",
       "      <td>Eisinga Planetarium</td>\n",
       "      <td>2023</td>\n",
       "      <td>Netherlands</td>\n",
       "      <td>3.53</td>\n",
       "    </tr>\n",
       "    <tr>\n",
       "      <th>1201</th>\n",
       "      <td>1695</td>\n",
       "      <td>Zagori Cultural Landscape</td>\n",
       "      <td>2023</td>\n",
       "      <td>Greece</td>\n",
       "      <td>3.34</td>\n",
       "    </tr>\n",
       "    <tr>\n",
       "      <th>1203</th>\n",
       "      <td>1697</td>\n",
       "      <td>Nyungwe National Park</td>\n",
       "      <td>2023</td>\n",
       "      <td>Rwanda</td>\n",
       "      <td>3.14</td>\n",
       "    </tr>\n",
       "    <tr>\n",
       "      <th>1206</th>\n",
       "      <td>1700</td>\n",
       "      <td>Ancient Kingdom of Saba</td>\n",
       "      <td>2023</td>\n",
       "      <td>Yemen</td>\n",
       "      <td>3.11</td>\n",
       "    </tr>\n",
       "    <tr>\n",
       "      <th>1208</th>\n",
       "      <td>1703</td>\n",
       "      <td>Odesa</td>\n",
       "      <td>2023</td>\n",
       "      <td>Ukraine</td>\n",
       "      <td>3.25</td>\n",
       "    </tr>\n",
       "  </tbody>\n",
       "</table>\n",
       "<p>424 rows × 5 columns</p>\n",
       "</div>"
      ],
      "text/plain": [
       "      Rank                     Site Name  Nomination Year      Country  Rating\n",
       "12      19                  Fasil Ghebbi             1979     Ethiopia    3.31\n",
       "13      20                      Damascus             1979        Syria    4.15\n",
       "18      25                        Djoudj             1981      Senegal    3.08\n",
       "24      31            Auschwitz Birkenau             1979       Poland    4.10\n",
       "27      34  Forts and Castles Gold Coast             1979        Ghana    3.13\n",
       "...    ...                           ...              ...          ...     ...\n",
       "1192  1683           Eisinga Planetarium             2023  Netherlands    3.53\n",
       "1201  1695     Zagori Cultural Landscape             2023       Greece    3.34\n",
       "1203  1697         Nyungwe National Park             2023       Rwanda    3.14\n",
       "1206  1700       Ancient Kingdom of Saba             2023        Yemen    3.11\n",
       "1208  1703                         Odesa             2023      Ukraine    3.25\n",
       "\n",
       "[424 rows x 5 columns]"
      ]
     },
     "execution_count": 64,
     "metadata": {},
     "output_type": "execute_result"
    }
   ],
   "source": [
    "heritage_df[(heritage_df[\"Nomination Year\"]) & (heritage_df[\"Rating\"] > 3.0)]"
   ]
  },
  {
   "cell_type": "code",
   "execution_count": 93,
   "id": "f8c07a10-2c70-4728-b08c-c5fd652aca65",
   "metadata": {
    "editable": true,
    "slideshow": {
     "slide_type": "subslide"
    },
    "tags": [
     "slide"
    ]
   },
   "outputs": [
    {
     "data": {
      "image/png": "[encoded data removed]",
      "text/plain": [
       "<Figure size 640x480 with 1 Axes>"
      ]
     },
     "metadata": {},
     "output_type": "display_data"
    }
   ],
   "source": [
    "import matplotlib.pyplot as plt\n",
    "X = ['Damascus','Auschwitz Birkenau','Fasil Ghebbi','Djoudj'] \n",
    "Yrating = [4.15,4.10,3.31,3.08] \n",
    "Zrank = [20,31,19,25] \n",
    "\n",
    "X_axis = np.arange(len(X)) \n",
    "\n",
    "plt.bar(X_axis - 0.2, Yrating, 0.4, label = 'Rating') \n",
    "plt.bar(X_axis + 0.2, Zrank, 0.4, label = 'Rank') \n",
    "\n",
    "plt.xticks(X_axis, X) \n",
    "plt.xlabel(\"Site Name\") \n",
    "plt.ylabel(\"Rank and Rating\") \n",
    "plt.title(\"Rank and Rating of selected sites\") \n",
    "plt.legend() \n",
    "plt.show() \n"
   ]
  },
  {
   "cell_type": "markdown",
   "id": "cfb8eedb-38f5-45c2-9c0a-9a54384b7e9e",
   "metadata": {},
   "source": [
    "***"
   ]
  },
  {
   "cell_type": "markdown",
   "id": "bb90d9eb-3108-4e10-9724-803399348bc0",
   "metadata": {},
   "source": [
    "# <center>Conclusion</center>"
   ]
  },
  {
   "cell_type": "markdown",
   "id": "d7463a05-063d-43cc-8c8f-ba15197b0db8",
   "metadata": {},
   "source": [
    "<p>I believe I have already covered the results relating to the popularity of UNESCO World Heritage sites during 2024 and beyond. I initially was under the impression that the Rank directly related to the ranking. However, having taken a closer look at the data source noted below, I believe that rank may purely refer to the id number allocated to each individual site. There were other lists included on the website such as 'Best Rated' that show a completely different set of data. The number of visitors impacts the validity of how popular heritage sites are-as less visitors means less reviews/statistics collected. Any decreases in popularity of sites may be due to numerous issues. Covid-19 could have lowered the rating as it would have lowered the visitation numbers, the criteria for Unesco heritage sites may have changed, destruction or damage of sites may have removed sites from the list or again prevented tourists from visiting certain sites. For more information on this dataset please <a href=\"https://www.kaggle.com/datasets/rishabhbhartiya/unesco-world-heritage-updated-2024\">view this link.</a> The data included within this dataset was retrieved from <a href=\"https://www.worldheritagesite.org/ranking/most+visited+sites\"> world heritage.</a></p>"
   ]
  }
 ],
 "metadata": {
  "kernelspec": {
   "display_name": "Python 3 (ipykernel)",
   "language": "python",
   "name": "python3"
  },
  "language_info": {
   "codemirror_mode": {
    "name": "ipython",
    "version": 3
   },
   "file_extension": ".py",
   "mimetype": "text/x-python",
   "name": "python",
   "nbconvert_exporter": "python",
   "pygments_lexer": "ipython3",
   "version": "3.12.7"
  },
  "toc": {
   "base_numbering": 1
  }
 },
 "nbformat": 4,
 "nbformat_minor": 5
}
